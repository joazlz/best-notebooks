{
  "nbformat": 4,
  "nbformat_minor": 0,
  "metadata": {
    "colab": {
      "provenance": []
    },
    "kernelspec": {
      "name": "python3",
      "display_name": "Python 3"
    },
    "language_info": {
      "name": "python"
    }
  },
  "cells": [
    {
      "cell_type": "markdown",
      "source": [
        "# init"
      ],
      "metadata": {
        "id": "UCU8_pGhnKE_"
      }
    },
    {
      "cell_type": "code",
      "execution_count": null,
      "metadata": {
        "colab": {
          "base_uri": "https://localhost:8080/"
        },
        "id": "vWzOAU5iwkrl",
        "outputId": "f954b8c5-9d0a-4679-bda2-92debf0b0b11"
      },
      "outputs": [
        {
          "output_type": "stream",
          "name": "stdout",
          "text": [
            "Mounted at /content/drive\n"
          ]
        }
      ],
      "source": [
        "## Autoriza que google colab acceda a información de google drive\n",
        "from google.colab import drive\n",
        "drive.mount('/content/drive', force_remount=True)"
      ]
    },
    {
      "cell_type": "code",
      "source": [
        "#Descarga open JDK\n",
        "!apt-get install openjdk-8-jdk-headless -qq > /dev/null\n",
        "#Instalacion pyspark\n",
        "!pip install pyspark\n",
        "#Instalacion de delta\n",
        "!pip install delta-spark\n",
        "\n",
        "from pyspark.sql.functions import *\n",
        "from delta import *\n",
        "import functools\n",
        "import pyspark\n",
        "\n",
        "builder = pyspark.sql.SparkSession.builder.appName(\"MyApp\") \\\n",
        "    .config(\"spark.sql.extensions\", \"io.delta.sql.DeltaSparkSessionExtension\") \\\n",
        "    .config(\"spark.sql.catalog.spark_catalog\", \"org.apache.spark.sql.delta.catalog.DeltaCatalog\")\\\n",
        "    .config(\"spark.jars.packages\", \"io.delta:delta-core_2.12:2.0.0\")\\\n",
        "\n",
        "spark = configure_spark_with_delta_pip(builder).getOrCreate()"
      ],
      "metadata": {
        "colab": {
          "base_uri": "https://localhost:8080/"
        },
        "id": "5Nwyv8fbw8N6",
        "outputId": "fa27c3d2-f5fb-4362-b81f-e4d04a1e0ab9"
      },
      "execution_count": null,
      "outputs": [
        {
          "output_type": "stream",
          "name": "stdout",
          "text": [
            "Collecting pyspark\n",
            "  Downloading pyspark-3.5.0.tar.gz (316.9 MB)\n",
            "\u001b[2K     \u001b[90m━━━━━━━━━━━━━━━━━━━━━━━━━━━━━━━━━━━━━━━━\u001b[0m \u001b[32m316.9/316.9 MB\u001b[0m \u001b[31m4.3 MB/s\u001b[0m eta \u001b[36m0:00:00\u001b[0m\n",
            "\u001b[?25h  Preparing metadata (setup.py) ... \u001b[?25l\u001b[?25hdone\n",
            "Requirement already satisfied: py4j==0.10.9.7 in /usr/local/lib/python3.10/dist-packages (from pyspark) (0.10.9.7)\n",
            "Building wheels for collected packages: pyspark\n",
            "  Building wheel for pyspark (setup.py) ... \u001b[?25l\u001b[?25hdone\n",
            "  Created wheel for pyspark: filename=pyspark-3.5.0-py2.py3-none-any.whl size=317425344 sha256=a5cc687db2e7726ed83170a139a3ad3748b4f0e44b193126276fb6bf86ae86c5\n",
            "  Stored in directory: /root/.cache/pip/wheels/41/4e/10/c2cf2467f71c678cfc8a6b9ac9241e5e44a01940da8fbb17fc\n",
            "Successfully built pyspark\n",
            "Installing collected packages: pyspark\n",
            "Successfully installed pyspark-3.5.0\n",
            "Collecting delta-spark\n",
            "  Downloading delta_spark-3.0.0-py3-none-any.whl (21 kB)\n",
            "Requirement already satisfied: pyspark<3.6.0,>=3.5.0 in /usr/local/lib/python3.10/dist-packages (from delta-spark) (3.5.0)\n",
            "Requirement already satisfied: importlib-metadata>=1.0.0 in /usr/local/lib/python3.10/dist-packages (from delta-spark) (6.8.0)\n",
            "Requirement already satisfied: zipp>=0.5 in /usr/local/lib/python3.10/dist-packages (from importlib-metadata>=1.0.0->delta-spark) (3.17.0)\n",
            "Requirement already satisfied: py4j==0.10.9.7 in /usr/local/lib/python3.10/dist-packages (from pyspark<3.6.0,>=3.5.0->delta-spark) (0.10.9.7)\n",
            "Installing collected packages: delta-spark\n",
            "Successfully installed delta-spark-3.0.0\n"
          ]
        }
      ]
    },
    {
      "cell_type": "code",
      "source": [
        "text = spark.read.text(\"/content/drive/MyDrive/logs/Error estandar.txt\")"
      ],
      "metadata": {
        "id": "R2FiF6wfcMGD"
      },
      "execution_count": null,
      "outputs": []
    },
    {
      "cell_type": "code",
      "source": [
        "text.show(truncate=False)"
      ],
      "metadata": {
        "colab": {
          "base_uri": "https://localhost:8080/"
        },
        "id": "2YrS_yVETQj0",
        "outputId": "4c2f761d-2321-4a1b-8156-449855b03402"
      },
      "execution_count": null,
      "outputs": [
        {
          "output_type": "stream",
          "name": "stdout",
          "text": [
            "+---------------------------------------------------------------+\n",
            "|value                                                          |\n",
            "+---------------------------------------------------------------+\n",
            "|Wed Oct 18 11:16:21 2023 Connection to spark from PID  1140    |\n",
            "|Wed Oct 18 11:16:21 2023 Initialized gateway on port 41525     |\n",
            "|Wed Oct 18 11:16:22 2023 Connected to spark.                   |\n",
            "|Sun Oct 22 11:05:39 2023 Connection to spark from PID  1185    |\n",
            "|Sun Oct 22 11:05:39 2023 Initialized gateway on port 37623     |\n",
            "|Sun Oct 22 11:05:40 2023 Connected to spark.                   |\n",
            "|Mon Oct 23 10:58:17 2023 Connection to spark from PID  1149    |\n",
            "|Mon Oct 23 10:58:17 2023 Initialized gateway on port 44899     |\n",
            "|Mon Oct 23 10:58:18 2023 Connected to spark.                   |\n",
            "|Tue Oct 24 15:43:04 2023 Connection to spark from PID  1169    |\n",
            "|Tue Oct 24 15:43:04 2023 Initialized gateway on port 34153     |\n",
            "|Tue Oct 24 15:43:05 2023 Connected to spark.                   |\n",
            "|2023-10-24 15:43:10,419 INFO Received command c on object id p0|\n",
            "|2023-10-24 15:43:33,707 INFO Received command c on object id p0|\n",
            "|2023-10-24 15:43:34,598 INFO Received command c on object id p0|\n",
            "|2023-10-24 15:43:35,093 INFO Received command c on object id p0|\n",
            "|2023-10-24 15:43:35,197 INFO Received command c on object id p0|\n",
            "|2023-10-24 15:43:36,001 INFO Received command c on object id p0|\n",
            "|2023-10-24 15:43:42,605 INFO Received command c on object id p0|\n",
            "|2023-10-24 15:43:43,006 INFO Received command c on object id p0|\n",
            "+---------------------------------------------------------------+\n",
            "only showing top 20 rows\n",
            "\n"
          ]
        }
      ]
    },
    {
      "cell_type": "code",
      "source": [],
      "metadata": {
        "id": "RzygpjTkTrbv"
      },
      "execution_count": null,
      "outputs": []
    }
  ]
}